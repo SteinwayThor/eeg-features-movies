{
  "nbformat": 4,
  "nbformat_minor": 0,
  "metadata": {
    "colab": {
      "provenance": [],
      "authorship_tag": "ABX9TyOX/GehMSLSxApvI0JyAIih",
      "include_colab_link": true
    },
    "kernelspec": {
      "name": "python3",
      "display_name": "Python 3"
    },
    "language_info": {
      "name": "python"
    }
  },
  "cells": [
    {
      "cell_type": "markdown",
      "metadata": {
        "id": "view-in-github",
        "colab_type": "text"
      },
      "source": [
        "<a href=\"https://colab.research.google.com/github/SteinwayThor/eeg-features-movies/blob/main/EDA_and_Data_Extraction.ipynb\" target=\"_parent\"><img src=\"https://colab.research.google.com/assets/colab-badge.svg\" alt=\"Open In Colab\"/></a>"
      ]
    },
    {
      "cell_type": "code",
      "source": [
        "# generic torch imports\n",
        "import torch\n",
        "import torch.nn as nn\n",
        "import torch.optim as optim\n",
        "import torch.nn.init as init\n",
        "import torch.nn.functional as F\n",
        "from torch.utils.data import DataLoader\n",
        "from torchsummary import summary\n",
        "\n",
        "# generic ml/stats imports\n",
        "import cv2\n",
        "import matplotlib.pyplot as plt\n",
        "from matplotlib import cm\n",
        "import numpy as np\n",
        "import scipy.fftpack as sp\n",
        "from sklearn.model_selection import train_test_split\n",
        "from math import pi\n",
        "from scipy.spatial.distance import pdist, squareform\n",
        "\n",
        "#torch vision related imports\n",
        "import torchvision\n",
        "import torchvision.transforms as transforms\n",
        "import torchvision.models as models\n",
        "from torchvision import datasets\n",
        "\n",
        "# data utils\n",
        "import time\n",
        "import os\n",
        "import pickle\n",
        "import json\n",
        "from PIL import Image\n",
        "from google.colab import drive\n",
        "import bz2\n",
        "import _pickle as cPickle\n",
        "import pickle as pl"
      ],
      "metadata": {
        "id": "JbwgQF4Ad6k4"
      },
      "execution_count": 1,
      "outputs": []
    },
    {
      "cell_type": "code",
      "execution_count": 2,
      "metadata": {
        "id": "h34_HdbfdgHY",
        "colab": {
          "base_uri": "https://localhost:8080/"
        },
        "outputId": "fab0a92f-7cfe-43e3-943f-4dd349ae540a"
      },
      "outputs": [
        {
          "output_type": "stream",
          "name": "stdout",
          "text": [
            "Mounted at /content/drive\n"
          ]
        }
      ],
      "source": [
        "drive.mount('/content/drive', force_remount=True)\n",
        "\n",
        "# Load any compressed pickle file\n",
        "def decompress_pickle(file):\n",
        "  data = bz2.BZ2File(file, 'rb')\n",
        "  data = cPickle.load(data)\n",
        "  return data"
      ]
    },
    {
      "cell_type": "code",
      "source": [
        "emotion_annotations_f = '/content/drive/MyDrive/Movie Data/e0018RI/emotion_annotations'\n",
        "emotion_annotations = os.listdir(emotion_annotations_f)\n",
        "#skyfall_emotion_[angry|fear|sad|happy|disgust]_viewer[123|127|139|142]_chapter[01 to 31].json"
      ],
      "metadata": {
        "id": "cr-FZ3Y7jehd"
      },
      "execution_count": 3,
      "outputs": []
    },
    {
      "cell_type": "code",
      "source": [
        "#EDA on emotions json data\n",
        "diff_emotions = {}\n",
        "diff_viewers = {}\n",
        "diff_chapters = {}\n",
        "for json_file in emotion_annotations:\n",
        "  split_name = json_file.split(\"_\")\n",
        "  emotion = split_name[2]  #angry\n",
        "  viewer = split_name[3]  #viewer127\n",
        "  chapter = split_name[4][:split_name[4].find(\".\")]  #chapter01\n",
        "  diff_emotions[emotion] = diff_emotions.get(emotion,[]) + [json_file]\n",
        "  diff_viewers[viewer] = diff_viewers.get(viewer,[]) + [json_file]\n",
        "  diff_chapters[chapter] = diff_chapters.get(chapter,[]) + [json_file]\n",
        "print(sorted(diff_chapters.keys()), diff_emotions.keys(), diff_viewers.keys(), sep='\\n-------\\n')"
      ],
      "metadata": {
        "colab": {
          "base_uri": "https://localhost:8080/"
        },
        "id": "pmyS-9E6l_uL",
        "outputId": "8ccfab2d-4958-4a04-caf0-17dfc42a81ed"
      },
      "execution_count": 44,
      "outputs": [
        {
          "output_type": "stream",
          "name": "stdout",
          "text": [
            "['chapter01', 'chapter02', 'chapter03', 'chapter04', 'chapter05', 'chapter06', 'chapter07', 'chapter08', 'chapter09', 'chapter10', 'chapter11', 'chapter12', 'chapter13', 'chapter14', 'chapter15', 'chapter16', 'chapter17', 'chapter18', 'chapter19', 'chapter20', 'chapter21', 'chapter22', 'chapter23', 'chapter24', 'chapter25', 'chapter26', 'chapter27', 'chapter28', 'chapter29', 'chapter30', 'chapter31']\n",
            "-------\n",
            "dict_keys(['disgust', 'angry', 'fear', 'sad', 'happy'])\n",
            "-------\n",
            "dict_keys(['viewer142', 'viewer127', 'viewer123', 'viewer139'])\n"
          ]
        }
      ]
    },
    {
      "cell_type": "code",
      "source": [
        "#global insight:\n",
        "# the file name is in the format: skyfall_emotion_[angry|fear|sad|happy|disgust]_viewer[123|127|139|142]_chapter[01 to 31].json\n",
        "\n",
        "print(\"\\n======================================================================\")\n",
        "print(\"Total different CHAPTERS for which labels are available along with their count: \")\n",
        "print(\"Total CHAPTERS: \", len(diff_chapters.keys()))\n",
        "chapter_plot = []\n",
        "for chapter in sorted(list(diff_chapters.keys())):\n",
        "  print(chapter, \", number of label files: \", len(diff_chapters[chapter]))\n",
        "  print(\"Files:\", sorted(diff_chapters[chapter]))\n",
        "  chapter_plot.append([chapter,len(diff_chapters[chapter])])\n",
        "chapter_plot = np.array(chapter_plot)\n",
        "#insights:\n",
        "# 1. I believe that every file for a single chapter represents one particular and different emotion detected in that chapter by random viewers.\n",
        "# 2. There can be min of 2 and max of 4 emotions per chapter.\n",
        "# 3. Chapter 32 has no emotions data for it. Implication: Ignore neural data for it.\n",
        "# 4. We can ignore viewer number in the file name here.\n",
        "\n",
        "emotion_plot = []\n",
        "print(\"\\n======================================================================\\n\")\n",
        "print(\"Total different EMOTIONS for which labels are available along with their count: \")\n",
        "print(\"Total EMOTIONS: \", len(diff_emotions.keys()))\n",
        "for emotion in sorted(list(diff_emotions.keys())):\n",
        "  print(emotion, \", number of label files: \", len(diff_emotions[emotion]), end=',')\n",
        "  print(\"Files:\", sorted(diff_emotions[emotion]))\n",
        "  emotion_plot.append([emotion, len(diff_emotions[emotion])])\n",
        "emotion_plot = np.array(emotion_plot)\n",
        "#insights:\n",
        "# 1. 5 total emotions: angry, fear, happy, disgust and sad.\n",
        "# 2. There is class-imbalance in the emotion classes.\n",
        "# 3. Most of the data corresponds to negative emotions, possibly because skyfall has a lot of sad and intense scenes.\n",
        "\n",
        "viewer_plot = []\n",
        "print(\"\\n======================================================================\\n\")\n",
        "print(\"Total different VIEWERS for which labels are available along with their count: \")\n",
        "print(\"Total VIEWERS: \", len(diff_viewers.keys()))\n",
        "for viewer in sorted(list(diff_viewers.keys())):\n",
        "  print(viewer, \", number of label files: \", len(diff_viewers[viewer]))\n",
        "  print(\"Files:\", sorted(diff_viewers[viewer]))\n",
        "  viewer_plot.append([viewer, len(diff_viewers[viewer])])\n",
        "viewer_plot = np.array(viewer_plot)\n",
        "#insights:\n",
        "# 1. There are 4 distinct viewers but for our purposes, we can just ignore viewer differences in annotation. Assuming no bias in viewers' annotations."
      ],
      "metadata": {
        "id": "qFCneH31GSvp",
        "outputId": "0c1d9daf-f8a9-4bb7-a20d-641e23d34210",
        "colab": {
          "base_uri": "https://localhost:8080/"
        }
      },
      "execution_count": 54,
      "outputs": [
        {
          "output_type": "stream",
          "name": "stdout",
          "text": [
            "\n",
            "======================================================================\n",
            "Total different CHAPTERS for which labels are available along with their count: \n",
            "Total CHAPTERS:  31\n",
            "chapter01 , number of label files:  4\n",
            "Files: ['skyfall_emotion_angry_viewer127_chapter01.json', 'skyfall_emotion_fear_viewer127_chapter01.json', 'skyfall_emotion_happy_viewer139_chapter01.json', 'skyfall_emotion_sad_viewer123_chapter01.json']\n",
            "chapter02 , number of label files:  4\n",
            "Files: ['skyfall_emotion_angry_viewer127_chapter02.json', 'skyfall_emotion_fear_viewer127_chapter02.json', 'skyfall_emotion_happy_viewer139_chapter02.json', 'skyfall_emotion_sad_viewer123_chapter02.json']\n",
            "chapter03 , number of label files:  4\n",
            "Files: ['skyfall_emotion_angry_viewer127_chapter03.json', 'skyfall_emotion_fear_viewer127_chapter03.json', 'skyfall_emotion_happy_viewer139_chapter03.json', 'skyfall_emotion_sad_viewer123_chapter03.json']\n",
            "chapter04 , number of label files:  4\n",
            "Files: ['skyfall_emotion_angry_viewer127_chapter04.json', 'skyfall_emotion_fear_viewer127_chapter04.json', 'skyfall_emotion_happy_viewer139_chapter04.json', 'skyfall_emotion_sad_viewer123_chapter04.json']\n",
            "chapter05 , number of label files:  4\n",
            "Files: ['skyfall_emotion_angry_viewer127_chapter05.json', 'skyfall_emotion_fear_viewer127_chapter05.json', 'skyfall_emotion_happy_viewer139_chapter05.json', 'skyfall_emotion_sad_viewer123_chapter05.json']\n",
            "chapter06 , number of label files:  4\n",
            "Files: ['skyfall_emotion_angry_viewer127_chapter06.json', 'skyfall_emotion_fear_viewer127_chapter06.json', 'skyfall_emotion_happy_viewer139_chapter06.json', 'skyfall_emotion_sad_viewer123_chapter06.json']\n",
            "chapter07 , number of label files:  4\n",
            "Files: ['skyfall_emotion_angry_viewer127_chapter07.json', 'skyfall_emotion_fear_viewer127_chapter07.json', 'skyfall_emotion_happy_viewer139_chapter07.json', 'skyfall_emotion_sad_viewer123_chapter07.json']\n",
            "chapter08 , number of label files:  4\n",
            "Files: ['skyfall_emotion_angry_viewer127_chapter08.json', 'skyfall_emotion_fear_viewer127_chapter08.json', 'skyfall_emotion_happy_viewer139_chapter08.json', 'skyfall_emotion_sad_viewer123_chapter08.json']\n",
            "chapter09 , number of label files:  4\n",
            "Files: ['skyfall_emotion_angry_viewer127_chapter09.json', 'skyfall_emotion_fear_viewer127_chapter09.json', 'skyfall_emotion_happy_viewer139_chapter09.json', 'skyfall_emotion_sad_viewer123_chapter09.json']\n",
            "chapter10 , number of label files:  4\n",
            "Files: ['skyfall_emotion_angry_viewer127_chapter10.json', 'skyfall_emotion_fear_viewer127_chapter10.json', 'skyfall_emotion_happy_viewer139_chapter10.json', 'skyfall_emotion_sad_viewer123_chapter10.json']\n",
            "chapter11 , number of label files:  4\n",
            "Files: ['skyfall_emotion_angry_viewer127_chapter11.json', 'skyfall_emotion_fear_viewer127_chapter11.json', 'skyfall_emotion_happy_viewer139_chapter11.json', 'skyfall_emotion_sad_viewer123_chapter11.json']\n",
            "chapter12 , number of label files:  4\n",
            "Files: ['skyfall_emotion_angry_viewer127_chapter12.json', 'skyfall_emotion_fear_viewer127_chapter12.json', 'skyfall_emotion_happy_viewer139_chapter12.json', 'skyfall_emotion_sad_viewer123_chapter12.json']\n",
            "chapter13 , number of label files:  4\n",
            "Files: ['skyfall_emotion_angry_viewer127_chapter13.json', 'skyfall_emotion_fear_viewer127_chapter13.json', 'skyfall_emotion_happy_viewer139_chapter13.json', 'skyfall_emotion_sad_viewer123_chapter13.json']\n",
            "chapter14 , number of label files:  3\n",
            "Files: ['skyfall_emotion_angry_viewer127_chapter14.json', 'skyfall_emotion_happy_viewer139_chapter14.json', 'skyfall_emotion_sad_viewer123_chapter14.json']\n",
            "chapter15 , number of label files:  3\n",
            "Files: ['skyfall_emotion_angry_viewer127_chapter15.json', 'skyfall_emotion_happy_viewer139_chapter15.json', 'skyfall_emotion_sad_viewer123_chapter15.json']\n",
            "chapter16 , number of label files:  2\n",
            "Files: ['skyfall_emotion_angry_viewer127_chapter16.json', 'skyfall_emotion_fear_viewer127_chapter16.json']\n",
            "chapter17 , number of label files:  2\n",
            "Files: ['skyfall_emotion_angry_viewer127_chapter17.json', 'skyfall_emotion_fear_viewer127_chapter17.json']\n",
            "chapter18 , number of label files:  2\n",
            "Files: ['skyfall_emotion_angry_viewer127_chapter18.json', 'skyfall_emotion_fear_viewer127_chapter18.json']\n",
            "chapter19 , number of label files:  2\n",
            "Files: ['skyfall_emotion_angry_viewer127_chapter19.json', 'skyfall_emotion_fear_viewer127_chapter19.json']\n",
            "chapter20 , number of label files:  3\n",
            "Files: ['skyfall_emotion_angry_viewer127_chapter20.json', 'skyfall_emotion_disgust_viewer142_chapter20.json', 'skyfall_emotion_fear_viewer127_chapter20.json']\n",
            "chapter21 , number of label files:  3\n",
            "Files: ['skyfall_emotion_angry_viewer127_chapter21.json', 'skyfall_emotion_disgust_viewer142_chapter21.json', 'skyfall_emotion_fear_viewer127_chapter21.json']\n",
            "chapter22 , number of label files:  3\n",
            "Files: ['skyfall_emotion_angry_viewer127_chapter22.json', 'skyfall_emotion_disgust_viewer142_chapter22.json', 'skyfall_emotion_fear_viewer127_chapter22.json']\n",
            "chapter23 , number of label files:  3\n",
            "Files: ['skyfall_emotion_angry_viewer127_chapter23.json', 'skyfall_emotion_disgust_viewer142_chapter23.json', 'skyfall_emotion_fear_viewer127_chapter23.json']\n",
            "chapter24 , number of label files:  3\n",
            "Files: ['skyfall_emotion_angry_viewer127_chapter24.json', 'skyfall_emotion_disgust_viewer142_chapter24.json', 'skyfall_emotion_fear_viewer127_chapter24.json']\n",
            "chapter25 , number of label files:  3\n",
            "Files: ['skyfall_emotion_angry_viewer127_chapter25.json', 'skyfall_emotion_disgust_viewer142_chapter25.json', 'skyfall_emotion_fear_viewer127_chapter25.json']\n",
            "chapter26 , number of label files:  3\n",
            "Files: ['skyfall_emotion_angry_viewer127_chapter26.json', 'skyfall_emotion_disgust_viewer142_chapter26.json', 'skyfall_emotion_fear_viewer127_chapter26.json']\n",
            "chapter27 , number of label files:  3\n",
            "Files: ['skyfall_emotion_angry_viewer127_chapter27.json', 'skyfall_emotion_disgust_viewer142_chapter27.json', 'skyfall_emotion_fear_viewer127_chapter27.json']\n",
            "chapter28 , number of label files:  3\n",
            "Files: ['skyfall_emotion_angry_viewer127_chapter28.json', 'skyfall_emotion_disgust_viewer142_chapter28.json', 'skyfall_emotion_fear_viewer127_chapter28.json']\n",
            "chapter29 , number of label files:  3\n",
            "Files: ['skyfall_emotion_angry_viewer127_chapter29.json', 'skyfall_emotion_disgust_viewer142_chapter29.json', 'skyfall_emotion_fear_viewer127_chapter29.json']\n",
            "chapter30 , number of label files:  3\n",
            "Files: ['skyfall_emotion_angry_viewer127_chapter30.json', 'skyfall_emotion_disgust_viewer142_chapter30.json', 'skyfall_emotion_fear_viewer127_chapter30.json']\n",
            "chapter31 , number of label files:  3\n",
            "Files: ['skyfall_emotion_angry_viewer127_chapter31.json', 'skyfall_emotion_disgust_viewer142_chapter31.json', 'skyfall_emotion_fear_viewer127_chapter31.json']\n",
            "\n",
            "======================================================================\n",
            "\n",
            "Total different EMOTIONS for which labels are available along with their count: \n",
            "Total EMOTIONS:  5\n",
            "angry , number of label files:  31,Files: ['skyfall_emotion_angry_viewer127_chapter01.json', 'skyfall_emotion_angry_viewer127_chapter02.json', 'skyfall_emotion_angry_viewer127_chapter03.json', 'skyfall_emotion_angry_viewer127_chapter04.json', 'skyfall_emotion_angry_viewer127_chapter05.json', 'skyfall_emotion_angry_viewer127_chapter06.json', 'skyfall_emotion_angry_viewer127_chapter07.json', 'skyfall_emotion_angry_viewer127_chapter08.json', 'skyfall_emotion_angry_viewer127_chapter09.json', 'skyfall_emotion_angry_viewer127_chapter10.json', 'skyfall_emotion_angry_viewer127_chapter11.json', 'skyfall_emotion_angry_viewer127_chapter12.json', 'skyfall_emotion_angry_viewer127_chapter13.json', 'skyfall_emotion_angry_viewer127_chapter14.json', 'skyfall_emotion_angry_viewer127_chapter15.json', 'skyfall_emotion_angry_viewer127_chapter16.json', 'skyfall_emotion_angry_viewer127_chapter17.json', 'skyfall_emotion_angry_viewer127_chapter18.json', 'skyfall_emotion_angry_viewer127_chapter19.json', 'skyfall_emotion_angry_viewer127_chapter20.json', 'skyfall_emotion_angry_viewer127_chapter21.json', 'skyfall_emotion_angry_viewer127_chapter22.json', 'skyfall_emotion_angry_viewer127_chapter23.json', 'skyfall_emotion_angry_viewer127_chapter24.json', 'skyfall_emotion_angry_viewer127_chapter25.json', 'skyfall_emotion_angry_viewer127_chapter26.json', 'skyfall_emotion_angry_viewer127_chapter27.json', 'skyfall_emotion_angry_viewer127_chapter28.json', 'skyfall_emotion_angry_viewer127_chapter29.json', 'skyfall_emotion_angry_viewer127_chapter30.json', 'skyfall_emotion_angry_viewer127_chapter31.json']\n",
            "disgust , number of label files:  12,Files: ['skyfall_emotion_disgust_viewer142_chapter20.json', 'skyfall_emotion_disgust_viewer142_chapter21.json', 'skyfall_emotion_disgust_viewer142_chapter22.json', 'skyfall_emotion_disgust_viewer142_chapter23.json', 'skyfall_emotion_disgust_viewer142_chapter24.json', 'skyfall_emotion_disgust_viewer142_chapter25.json', 'skyfall_emotion_disgust_viewer142_chapter26.json', 'skyfall_emotion_disgust_viewer142_chapter27.json', 'skyfall_emotion_disgust_viewer142_chapter28.json', 'skyfall_emotion_disgust_viewer142_chapter29.json', 'skyfall_emotion_disgust_viewer142_chapter30.json', 'skyfall_emotion_disgust_viewer142_chapter31.json']\n",
            "fear , number of label files:  29,Files: ['skyfall_emotion_fear_viewer127_chapter01.json', 'skyfall_emotion_fear_viewer127_chapter02.json', 'skyfall_emotion_fear_viewer127_chapter03.json', 'skyfall_emotion_fear_viewer127_chapter04.json', 'skyfall_emotion_fear_viewer127_chapter05.json', 'skyfall_emotion_fear_viewer127_chapter06.json', 'skyfall_emotion_fear_viewer127_chapter07.json', 'skyfall_emotion_fear_viewer127_chapter08.json', 'skyfall_emotion_fear_viewer127_chapter09.json', 'skyfall_emotion_fear_viewer127_chapter10.json', 'skyfall_emotion_fear_viewer127_chapter11.json', 'skyfall_emotion_fear_viewer127_chapter12.json', 'skyfall_emotion_fear_viewer127_chapter13.json', 'skyfall_emotion_fear_viewer127_chapter16.json', 'skyfall_emotion_fear_viewer127_chapter17.json', 'skyfall_emotion_fear_viewer127_chapter18.json', 'skyfall_emotion_fear_viewer127_chapter19.json', 'skyfall_emotion_fear_viewer127_chapter20.json', 'skyfall_emotion_fear_viewer127_chapter21.json', 'skyfall_emotion_fear_viewer127_chapter22.json', 'skyfall_emotion_fear_viewer127_chapter23.json', 'skyfall_emotion_fear_viewer127_chapter24.json', 'skyfall_emotion_fear_viewer127_chapter25.json', 'skyfall_emotion_fear_viewer127_chapter26.json', 'skyfall_emotion_fear_viewer127_chapter27.json', 'skyfall_emotion_fear_viewer127_chapter28.json', 'skyfall_emotion_fear_viewer127_chapter29.json', 'skyfall_emotion_fear_viewer127_chapter30.json', 'skyfall_emotion_fear_viewer127_chapter31.json']\n",
            "happy , number of label files:  15,Files: ['skyfall_emotion_happy_viewer139_chapter01.json', 'skyfall_emotion_happy_viewer139_chapter02.json', 'skyfall_emotion_happy_viewer139_chapter03.json', 'skyfall_emotion_happy_viewer139_chapter04.json', 'skyfall_emotion_happy_viewer139_chapter05.json', 'skyfall_emotion_happy_viewer139_chapter06.json', 'skyfall_emotion_happy_viewer139_chapter07.json', 'skyfall_emotion_happy_viewer139_chapter08.json', 'skyfall_emotion_happy_viewer139_chapter09.json', 'skyfall_emotion_happy_viewer139_chapter10.json', 'skyfall_emotion_happy_viewer139_chapter11.json', 'skyfall_emotion_happy_viewer139_chapter12.json', 'skyfall_emotion_happy_viewer139_chapter13.json', 'skyfall_emotion_happy_viewer139_chapter14.json', 'skyfall_emotion_happy_viewer139_chapter15.json']\n",
            "sad , number of label files:  15,Files: ['skyfall_emotion_sad_viewer123_chapter01.json', 'skyfall_emotion_sad_viewer123_chapter02.json', 'skyfall_emotion_sad_viewer123_chapter03.json', 'skyfall_emotion_sad_viewer123_chapter04.json', 'skyfall_emotion_sad_viewer123_chapter05.json', 'skyfall_emotion_sad_viewer123_chapter06.json', 'skyfall_emotion_sad_viewer123_chapter07.json', 'skyfall_emotion_sad_viewer123_chapter08.json', 'skyfall_emotion_sad_viewer123_chapter09.json', 'skyfall_emotion_sad_viewer123_chapter10.json', 'skyfall_emotion_sad_viewer123_chapter11.json', 'skyfall_emotion_sad_viewer123_chapter12.json', 'skyfall_emotion_sad_viewer123_chapter13.json', 'skyfall_emotion_sad_viewer123_chapter14.json', 'skyfall_emotion_sad_viewer123_chapter15.json']\n",
            "\n",
            "======================================================================\n",
            "\n",
            "Total different VIEWERS for which labels are available along with their count: \n",
            "Total VIEWERS:  4\n",
            "viewer123 , number of label files:  15\n",
            "Files: ['skyfall_emotion_sad_viewer123_chapter01.json', 'skyfall_emotion_sad_viewer123_chapter02.json', 'skyfall_emotion_sad_viewer123_chapter03.json', 'skyfall_emotion_sad_viewer123_chapter04.json', 'skyfall_emotion_sad_viewer123_chapter05.json', 'skyfall_emotion_sad_viewer123_chapter06.json', 'skyfall_emotion_sad_viewer123_chapter07.json', 'skyfall_emotion_sad_viewer123_chapter08.json', 'skyfall_emotion_sad_viewer123_chapter09.json', 'skyfall_emotion_sad_viewer123_chapter10.json', 'skyfall_emotion_sad_viewer123_chapter11.json', 'skyfall_emotion_sad_viewer123_chapter12.json', 'skyfall_emotion_sad_viewer123_chapter13.json', 'skyfall_emotion_sad_viewer123_chapter14.json', 'skyfall_emotion_sad_viewer123_chapter15.json']\n",
            "viewer127 , number of label files:  60\n",
            "Files: ['skyfall_emotion_angry_viewer127_chapter01.json', 'skyfall_emotion_angry_viewer127_chapter02.json', 'skyfall_emotion_angry_viewer127_chapter03.json', 'skyfall_emotion_angry_viewer127_chapter04.json', 'skyfall_emotion_angry_viewer127_chapter05.json', 'skyfall_emotion_angry_viewer127_chapter06.json', 'skyfall_emotion_angry_viewer127_chapter07.json', 'skyfall_emotion_angry_viewer127_chapter08.json', 'skyfall_emotion_angry_viewer127_chapter09.json', 'skyfall_emotion_angry_viewer127_chapter10.json', 'skyfall_emotion_angry_viewer127_chapter11.json', 'skyfall_emotion_angry_viewer127_chapter12.json', 'skyfall_emotion_angry_viewer127_chapter13.json', 'skyfall_emotion_angry_viewer127_chapter14.json', 'skyfall_emotion_angry_viewer127_chapter15.json', 'skyfall_emotion_angry_viewer127_chapter16.json', 'skyfall_emotion_angry_viewer127_chapter17.json', 'skyfall_emotion_angry_viewer127_chapter18.json', 'skyfall_emotion_angry_viewer127_chapter19.json', 'skyfall_emotion_angry_viewer127_chapter20.json', 'skyfall_emotion_angry_viewer127_chapter21.json', 'skyfall_emotion_angry_viewer127_chapter22.json', 'skyfall_emotion_angry_viewer127_chapter23.json', 'skyfall_emotion_angry_viewer127_chapter24.json', 'skyfall_emotion_angry_viewer127_chapter25.json', 'skyfall_emotion_angry_viewer127_chapter26.json', 'skyfall_emotion_angry_viewer127_chapter27.json', 'skyfall_emotion_angry_viewer127_chapter28.json', 'skyfall_emotion_angry_viewer127_chapter29.json', 'skyfall_emotion_angry_viewer127_chapter30.json', 'skyfall_emotion_angry_viewer127_chapter31.json', 'skyfall_emotion_fear_viewer127_chapter01.json', 'skyfall_emotion_fear_viewer127_chapter02.json', 'skyfall_emotion_fear_viewer127_chapter03.json', 'skyfall_emotion_fear_viewer127_chapter04.json', 'skyfall_emotion_fear_viewer127_chapter05.json', 'skyfall_emotion_fear_viewer127_chapter06.json', 'skyfall_emotion_fear_viewer127_chapter07.json', 'skyfall_emotion_fear_viewer127_chapter08.json', 'skyfall_emotion_fear_viewer127_chapter09.json', 'skyfall_emotion_fear_viewer127_chapter10.json', 'skyfall_emotion_fear_viewer127_chapter11.json', 'skyfall_emotion_fear_viewer127_chapter12.json', 'skyfall_emotion_fear_viewer127_chapter13.json', 'skyfall_emotion_fear_viewer127_chapter16.json', 'skyfall_emotion_fear_viewer127_chapter17.json', 'skyfall_emotion_fear_viewer127_chapter18.json', 'skyfall_emotion_fear_viewer127_chapter19.json', 'skyfall_emotion_fear_viewer127_chapter20.json', 'skyfall_emotion_fear_viewer127_chapter21.json', 'skyfall_emotion_fear_viewer127_chapter22.json', 'skyfall_emotion_fear_viewer127_chapter23.json', 'skyfall_emotion_fear_viewer127_chapter24.json', 'skyfall_emotion_fear_viewer127_chapter25.json', 'skyfall_emotion_fear_viewer127_chapter26.json', 'skyfall_emotion_fear_viewer127_chapter27.json', 'skyfall_emotion_fear_viewer127_chapter28.json', 'skyfall_emotion_fear_viewer127_chapter29.json', 'skyfall_emotion_fear_viewer127_chapter30.json', 'skyfall_emotion_fear_viewer127_chapter31.json']\n",
            "viewer139 , number of label files:  15\n",
            "Files: ['skyfall_emotion_happy_viewer139_chapter01.json', 'skyfall_emotion_happy_viewer139_chapter02.json', 'skyfall_emotion_happy_viewer139_chapter03.json', 'skyfall_emotion_happy_viewer139_chapter04.json', 'skyfall_emotion_happy_viewer139_chapter05.json', 'skyfall_emotion_happy_viewer139_chapter06.json', 'skyfall_emotion_happy_viewer139_chapter07.json', 'skyfall_emotion_happy_viewer139_chapter08.json', 'skyfall_emotion_happy_viewer139_chapter09.json', 'skyfall_emotion_happy_viewer139_chapter10.json', 'skyfall_emotion_happy_viewer139_chapter11.json', 'skyfall_emotion_happy_viewer139_chapter12.json', 'skyfall_emotion_happy_viewer139_chapter13.json', 'skyfall_emotion_happy_viewer139_chapter14.json', 'skyfall_emotion_happy_viewer139_chapter15.json']\n",
            "viewer142 , number of label files:  12\n",
            "Files: ['skyfall_emotion_disgust_viewer142_chapter20.json', 'skyfall_emotion_disgust_viewer142_chapter21.json', 'skyfall_emotion_disgust_viewer142_chapter22.json', 'skyfall_emotion_disgust_viewer142_chapter23.json', 'skyfall_emotion_disgust_viewer142_chapter24.json', 'skyfall_emotion_disgust_viewer142_chapter25.json', 'skyfall_emotion_disgust_viewer142_chapter26.json', 'skyfall_emotion_disgust_viewer142_chapter27.json', 'skyfall_emotion_disgust_viewer142_chapter28.json', 'skyfall_emotion_disgust_viewer142_chapter29.json', 'skyfall_emotion_disgust_viewer142_chapter30.json', 'skyfall_emotion_disgust_viewer142_chapter31.json']\n"
          ]
        }
      ]
    },
    {
      "cell_type": "code",
      "source": [
        "fig, axs = plt.subplots(3,1, figsize=(10,6))\n",
        "fig.suptitle(\"Plots for frequency of data for chapter, emotions and viewers\")\n",
        "fig.subplots_adjust(hspace=0.6)\n",
        "\n",
        "axs[0].bar(range(1,1+chapter_plot.shape[0]),chapter_plot[:,1].astype('int'), color = 'lawngreen')\n",
        "axs[0].set_xticks(range(1,1+chapter_plot.shape[0]))\n",
        "axs[0].set_yticks([1,2,3,4])\n",
        "axs[0].set_ylabel(\"Emotions\")\n",
        "axs[0].set_xlabel(\"Chapters 1 to 31\")\n",
        "\n",
        "_ = axs[1].bar(range(1,1+emotion_plot.shape[0]),emotion_plot[:,1].astype('int'), color = 'lawngreen')\n",
        "axs[1].bar_label(_, label_type='center')\n",
        "axs[1].set_xticks(range(1,1+emotion_plot.shape[0]), emotion_plot[:,0])\n",
        "axs[1].set_ylabel(\"Chapters\")\n",
        "axs[1].set_xlabel(\"Emotions\")\n",
        "\n",
        "_ = axs[2].bar(range(1,1+viewer_plot.shape[0]),viewer_plot[:,1].astype('int'), color = 'lawngreen')\n",
        "axs[2].bar_label(_, label_type='center')\n",
        "axs[2].set_xticks(range(1,1+viewer_plot.shape[0]), viewer_plot[:,0])\n",
        "axs[2].set_ylabel(\"JSON Files\")\n",
        "axs[2].set_xlabel(\"Viewers\")\n",
        "plt.plot()"
      ],
      "metadata": {
        "id": "81ajwD08KXM5",
        "outputId": "72e5f00b-e084-43c5-97f3-56d4371c4e81",
        "colab": {
          "base_uri": "https://localhost:8080/",
          "height": 619
        }
      },
      "execution_count": 130,
      "outputs": [
        {
          "output_type": "execute_result",
          "data": {
            "text/plain": [
              "[]"
            ]
          },
          "metadata": {},
          "execution_count": 130
        },
        {
          "output_type": "display_data",
          "data": {
            "text/plain": [
              "<Figure size 1000x600 with 3 Axes>"
            ],
            "image/png": "[encoded data removed]"
          },
          "metadata": {}
        }
      ]
    },
    {
      "cell_type": "code",
      "source": [
        "f = open(os.path.join(emotion_annotations_f, emotion_annotations[0]))\n",
        "data = json.load(f)\n",
        "print(emotion_annotations[0])\n",
        "\n",
        "json_formatted_str = json.dumps(data, indent=2)\n",
        "print(json_formatted_str)\n"
      ],
      "metadata": {
        "id": "ICODGzYuj7fC"
      },
      "execution_count": null,
      "outputs": []
    },
    {
      "cell_type": "code",
      "source": [
        "data =\n",
        "# Create an empty array\n",
        "#print(data[\"tracks\"])\n",
        "label_frames = []\n",
        "for track in data[\"tracks\"]:\n",
        "    shapes = track[\"shapes\"]\n",
        "    frame = shapes[0][\"frame\"]\n",
        "    attributes = shapes[0][\"attributes\"]\n",
        "    if attributes != []:\n",
        "        emotion = attributes[0][\"value\"]\n",
        "        label_frames.append((emotion, frame))\n",
        "\n",
        "def find_last_frame(data):\n",
        "    last_frame = 0\n",
        "    for track in data[\"tracks\"]:\n",
        "        shapes = track[\"shapes\"][-1]\n",
        "        frame = shapes[\"frame\"]\n",
        "        last_frame = frame\n",
        "    return last_frame\n",
        "\n",
        "def create_tuple_array(data):\n",
        "    emotions_frames = []\n",
        "    current_emotion = \"not_angry\" #get last emotion from previous dataset\n",
        "    for i in range(find_last_frame(data)):\n",
        "        if i in label_frames:\n",
        "            current_emotion = label_frames[0]\n",
        "        pair = (current_emotion, i)\n",
        "        emotions_frames.append(pair)\n",
        "    return emotions_frames\n",
        "print(len(create_tuple_array(data)))"
      ],
      "metadata": {
        "id": "_X7aIF0SkpT_"
      },
      "execution_count": null,
      "outputs": []
    },
    {
      "cell_type": "code",
      "source": [
        "# Load in neural data\n",
        "# NOTE: Takes a while!\n",
        "neural_data_folder = '/content/drive/MyDrive/Movie Data/e0018RI/2023-04-02_e0018RI_00'\n",
        "\n",
        "neural_data_dir = os.listdir(neural_data_folder)\n",
        "\n",
        "neural_data = {}\n",
        "channels = []\n",
        "for f in neural_data_dir:\n",
        "  channel_name = f[f.rfind('_')+1:-5]\n",
        "  channels.append(channel_name)\n",
        "  # channel_data = decompress_pickle(os.path.join(neural_data_folder, f))\n",
        "  # neural_data[channel_name] = channel_data\n",
        "\n",
        "print(channels)"
      ],
      "metadata": {
        "id": "BIYn3FT6krY4"
      },
      "execution_count": null,
      "outputs": []
    }
  ]
}