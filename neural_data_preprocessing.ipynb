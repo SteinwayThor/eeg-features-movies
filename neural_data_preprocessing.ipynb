{
  "nbformat": 4,
  "nbformat_minor": 0,
  "metadata": {
    "colab": {
      "provenance": [],
      "authorship_tag": "ABX9TyPQbWfZ7zPOqa/l8IbXK3b1",
      "include_colab_link": true
    },
    "kernelspec": {
      "name": "python3",
      "display_name": "Python 3"
    },
    "language_info": {
      "name": "python"
    }
  },
  "cells": [
    {
      "cell_type": "markdown",
      "metadata": {
        "id": "view-in-github",
        "colab_type": "text"
      },
      "source": [
        "<a href=\"https://colab.research.google.com/github/SteinwayThor/eeg-features-movies/blob/main/neural_data_preprocessing.ipynb\" target=\"_parent\"><img src=\"https://colab.research.google.com/assets/colab-badge.svg\" alt=\"Open In Colab\"/></a>"
      ]
    },
    {
      "cell_type": "code",
      "source": [
        "# IMPORTS\n",
        "import os\n",
        "from google.colab import drive\n",
        "import bz2\n",
        "import _pickle as cPickle"
      ],
      "metadata": {
        "id": "dsv_qhY0cypE"
      },
      "execution_count": 5,
      "outputs": []
    },
    {
      "cell_type": "code",
      "source": [
        "drive.mount('/content/drive', force_remount=True)\n",
        "\n",
        "# Load any compressed pickle file\n",
        "def decompress_pickle(file):\n",
        "  data = bz2.BZ2File(file, 'rb')\n",
        "  data = cPickle.load(data)\n",
        "  return data"
      ],
      "metadata": {
        "colab": {
          "base_uri": "https://localhost:8080/"
        },
        "id": "RUJJmujzctmx",
        "outputId": "f1f46d7b-a6d4-4262-80d3-f5bff7b1e114"
      },
      "execution_count": 3,
      "outputs": [
        {
          "output_type": "stream",
          "name": "stdout",
          "text": [
            "Mounted at /content/drive\n"
          ]
        }
      ]
    },
    {
      "cell_type": "code",
      "execution_count": 4,
      "metadata": {
        "id": "Mh1vYNReZjHQ"
      },
      "outputs": [],
      "source": [
        "chapter_lengths = {'01': 8054,\n",
        " '02': 5524,\n",
        " '03': 9462,\n",
        " '04': 7207,\n",
        " '05': 8719,\n",
        " '06': 6096,\n",
        " '07': 7959,\n",
        " '08': 10235,\n",
        " '09': 6058,\n",
        " '10': 5312,\n",
        " '11': 8965,\n",
        " '12': 7983,\n",
        " '13': 7350,\n",
        " '14': 8577,\n",
        " '15': 10077,\n",
        " '16': 9084,\n",
        " '17': 12400,\n",
        " '18': 6768,\n",
        " '19': 9473,\n",
        " '20': 10194,\n",
        " '21': 9451,\n",
        " '22': 6749,\n",
        " '23': 5323,\n",
        " '24': 3870,\n",
        " '25': 11284,\n",
        " '26': 4671,\n",
        " '27': 6227,\n",
        " '28': 8296,\n",
        " '29': 12115,\n",
        " '30': 9339,\n",
        " '31': 5317}"
      ]
    },
    {
      "cell_type": "code",
      "source": [
        "# Load in neural data\n",
        "# NOTE: Takes a while!\n",
        "neural_data_folder = '/content/drive/MyDrive/Movie Data/e0018RI/2023-04-02_e0018RI_00'\n",
        "\n",
        "neural_data_dir = os.listdir(neural_data_folder)\n",
        "\n",
        "neural_data = {}\n",
        "channels = []\n",
        "for f in neural_data_dir:\n",
        "  channel_name = f[f.rfind('_')+1:-5]\n",
        "  channels.append(channel_name)\n",
        "  channel_data = decompress_pickle(os.path.join(neural_data_folder, f))\n",
        "  neural_data[channel_name] = channel_data\n",
        "  print(f'Loaded in channel {channel_name}')\n",
        "\n",
        "print(channels)"
      ],
      "metadata": {
        "colab": {
          "base_uri": "https://localhost:8080/"
        },
        "id": "x7yAoP5KcofU",
        "outputId": "96fc8d6d-05bd-46fc-8a23-f680c5c84221"
      },
      "execution_count": null,
      "outputs": [
        {
          "output_type": "stream",
          "name": "stdout",
          "text": [
            "Loaded in channel Events\n",
            "Loaded in channel PULV15\n",
            "Loaded in channel PULV14\n",
            "Loaded in channel PULV13\n",
            "Loaded in channel PULV12\n",
            "Loaded in channel PULV11\n",
            "Loaded in channel PULV10\n",
            "Loaded in channel PULV9\n",
            "Loaded in channel PULV8\n",
            "Loaded in channel PULV7\n",
            "Loaded in channel PULV6\n",
            "Loaded in channel PULV5\n",
            "Loaded in channel PULV4\n",
            "Loaded in channel PULV3\n",
            "Loaded in channel PULV2\n",
            "Loaded in channel PULV1\n",
            "Loaded in channel TPOCC10\n",
            "Loaded in channel TPOCC9\n",
            "Loaded in channel TPOCC8\n",
            "Loaded in channel TPOCC7\n",
            "Loaded in channel TPOCC6\n",
            "Loaded in channel TPOCC5\n",
            "Loaded in channel TPOCC4\n",
            "Loaded in channel TPOCC3\n",
            "Loaded in channel TPOCC2\n",
            "Loaded in channel TPOCC1\n",
            "Loaded in channel TOCC12\n",
            "Loaded in channel TOCC11\n",
            "Loaded in channel TOCC10\n",
            "Loaded in channel TOCC9\n",
            "Loaded in channel TOCC8\n",
            "Loaded in channel TOCC7\n",
            "Loaded in channel TOCC6\n",
            "Loaded in channel TOCC5\n",
            "Loaded in channel TOCC4\n",
            "Loaded in channel TOCC3\n",
            "Loaded in channel TOCC2\n",
            "Loaded in channel TOCC1\n",
            "Loaded in channel POCC10\n",
            "Loaded in channel POCC9\n",
            "Loaded in channel POCC8\n",
            "Loaded in channel POCC7\n",
            "Loaded in channel POCC6\n",
            "Loaded in channel POCC5\n",
            "Loaded in channel POCC4\n",
            "Loaded in channel POCC3\n",
            "Loaded in channel POCC2\n",
            "Loaded in channel POCC1\n",
            "Loaded in channel OSLAT10\n",
            "Loaded in channel OSLAT9\n",
            "Loaded in channel OSLAT8\n",
            "Loaded in channel OSLAT7\n",
            "Loaded in channel OSLAT6\n",
            "Loaded in channel OSLAT5\n",
            "Loaded in channel OSLAT4\n",
            "Loaded in channel OSLAT3\n",
            "Loaded in channel OSLAT2\n",
            "Loaded in channel OSLAT1\n",
            "Loaded in channel OSUP15\n",
            "Loaded in channel OSUP14\n",
            "Loaded in channel OSUP13\n",
            "Loaded in channel OSUP12\n",
            "Loaded in channel OSUP11\n",
            "Loaded in channel OSUP10\n",
            "Loaded in channel OSUP9\n",
            "Loaded in channel OSUP8\n",
            "Loaded in channel OSUP7\n",
            "Loaded in channel OSUP6\n",
            "Loaded in channel OSUP5\n",
            "Loaded in channel OSUP4\n",
            "Loaded in channel OSUP3\n",
            "Loaded in channel OSUP2\n",
            "Loaded in channel OSUP1\n",
            "Loaded in channel OLAT15\n",
            "Loaded in channel OLAT14\n",
            "Loaded in channel OLAT13\n",
            "Loaded in channel OLAT12\n",
            "Loaded in channel OLAT11\n",
            "Loaded in channel OLAT10\n",
            "Loaded in channel OLAT9\n",
            "Loaded in channel OLAT8\n",
            "Loaded in channel OLAT7\n",
            "Loaded in channel OLAT6\n",
            "Loaded in channel OLAT5\n",
            "Loaded in channel OLAT4\n"
          ]
        }
      ]
    },
    {
      "cell_type": "code",
      "source": [
        "concatenated_"
      ],
      "metadata": {
        "id": "MwMV5lrPgGlT"
      },
      "execution_count": null,
      "outputs": []
    }
  ]
}