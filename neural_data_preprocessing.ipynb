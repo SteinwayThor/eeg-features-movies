{
  "nbformat": 4,
  "nbformat_minor": 0,
  "metadata": {
    "colab": {
      "provenance": [],
      "include_colab_link": true
    },
    "kernelspec": {
      "name": "python3",
      "display_name": "Python 3"
    },
    "language_info": {
      "name": "python"
    }
  },
  "cells": [
    {
      "cell_type": "markdown",
      "metadata": {
        "id": "view-in-github",
        "colab_type": "text"
      },
      "source": [
        "<a href=\"https://colab.research.google.com/github/SteinwayThor/eeg-features-movies/blob/main/neural_data_preprocessing.ipynb\" target=\"_parent\"><img src=\"https://colab.research.google.com/assets/colab-badge.svg\" alt=\"Open In Colab\"/></a>"
      ]
    },
    {
      "cell_type": "code",
      "source": [
        "# IMPORTS\n",
        "import os\n",
        "from google.colab import drive\n",
        "import bz2\n",
        "import _pickle as cPickle\n",
        "import numpy as np\n",
        "import pandas as pd\n",
        "import json\n",
        "import gc"
      ],
      "metadata": {
        "id": "dsv_qhY0cypE"
      },
      "execution_count": 1,
      "outputs": []
    },
    {
      "cell_type": "code",
      "source": [
        "drive.mount('/content/drive', force_remount=True)\n",
        "\n",
        "# Load any compressed pickle file\n",
        "def decompress_pickle(file):\n",
        "  data = bz2.BZ2File(file, 'rb')\n",
        "  data = cPickle.load(data)\n",
        "  return data"
      ],
      "metadata": {
        "colab": {
          "base_uri": "https://localhost:8080/"
        },
        "id": "RUJJmujzctmx",
        "outputId": "4d84f23d-62cb-4106-ba95-622fe0689678"
      },
      "execution_count": 27,
      "outputs": [
        {
          "output_type": "stream",
          "name": "stdout",
          "text": [
            "Mounted at /content/drive\n"
          ]
        }
      ]
    },
    {
      "cell_type": "code",
      "source": [
        "neural_data_folder = '/content/drive/MyDrive/Movie Data/e0006KR/'\n",
        "neural_data_dir = os.listdir(neural_data_folder)"
      ],
      "metadata": {
        "id": "FjIogycqxzpw"
      },
      "execution_count": 3,
      "outputs": []
    },
    {
      "cell_type": "code",
      "source": [
        "#Extract start and end of chapters:\n",
        "events_f = [f for f in neural_data_dir if 'events' in f.lower()][0]\n",
        "events = decompress_pickle(os.path.join(neural_data_folder, events_f))\n",
        "chapter_idx = [event for event in events['signal'] if event[0]==9 or event[0]==18]\n",
        "start_stop = [(chapter_idx[i][1],chapter_idx[i+1][1]) for i in range(0,len(chapter_idx), 2)]\n",
        "chapter_idx = dict(zip((range(1,len(start_stop)+1)),start_stop))\n",
        "del events, start_stop, events_f"
      ],
      "metadata": {
        "id": "rDCSvkXAxwk0"
      },
      "execution_count": 4,
      "outputs": []
    },
    {
      "cell_type": "code",
      "source": [
        "chapter_idx"
      ],
      "metadata": {
        "colab": {
          "base_uri": "https://localhost:8080/"
        },
        "id": "Vb7ZlaPu0EVq",
        "outputId": "9d7f8c13-3512-4a3e-95d1-800a289d1c82"
      },
      "execution_count": 5,
      "outputs": [
        {
          "output_type": "execute_result",
          "data": {
            "text/plain": [
              "{1: (23828108, 24179424),\n",
              " 2: (24181586, 24557675),\n",
              " 3: (24558933, 24956256),\n",
              " 4: (24957529, 25294656),\n",
              " 5: (25295943, 25593803),\n",
              " 6: (25595013, 25965313),\n",
              " 7: (25966462, 26370719),\n",
              " 8: (26371896, 26711407),\n",
              " 9: (26712625, 27178388),\n",
              " 10: (27179752, 27695292),\n",
              " 11: (27696813, 28188900),\n",
              " 12: (28190842, 28532606),\n",
              " 13: (28533966, 29040089),\n",
              " 14: (29041771, 29418395),\n",
              " 15: (29419847, 29804615),\n",
              " 16: (29806140, 30300732),\n",
              " 17: (30302312, 30687636),\n",
              " 18: (30689435, 30901312),\n",
              " 19: (30902789, 31380891),\n",
              " 20: (31382496, 31449857)}"
            ]
          },
          "metadata": {},
          "execution_count": 5
        }
      ]
    },
    {
      "cell_type": "code",
      "source": [
        "list(chapter_idx.keys())"
      ],
      "metadata": {
        "colab": {
          "base_uri": "https://localhost:8080/"
        },
        "id": "qFxRf8Yu6-7O",
        "outputId": "ccca49b1-28dd-4557-fdc4-616c09bb680a"
      },
      "execution_count": 6,
      "outputs": [
        {
          "output_type": "execute_result",
          "data": {
            "text/plain": [
              "[1, 2, 3, 4, 5, 6, 7, 8, 9, 10, 11, 12, 13, 14, 15, 16, 17, 18, 19, 20]"
            ]
          },
          "metadata": {},
          "execution_count": 6
        }
      ]
    },
    {
      "cell_type": "code",
      "source": [
        "#find all channels:\n",
        "channels = []\n",
        "for f in neural_data_dir:\n",
        "    if (not '.pbz' in f.lower()) or ('event' in f.lower()):\n",
        "      continue\n",
        "    channel_name = f[f.rfind('_')+1:-5]\n",
        "    channels.append(channel_name)"
      ],
      "metadata": {
        "id": "ADImcvQV7GCM"
      },
      "execution_count": 7,
      "outputs": []
    },
    {
      "cell_type": "code",
      "source": [
        "channels_dict = dict((i,[]) for i in channels)\n",
        "del channels\n",
        "channels_dict.keys()"
      ],
      "metadata": {
        "colab": {
          "base_uri": "https://localhost:8080/"
        },
        "id": "IKaPUNA67TEq",
        "outputId": "5b6c4737-1b73-4b21-e9fc-51fc10437712"
      },
      "execution_count": 8,
      "outputs": [
        {
          "output_type": "execute_result",
          "data": {
            "text/plain": [
              "dict_keys(['RPH14', 'RPH13', 'RPH12', 'RPH11', 'RPH10', 'RPH9', 'RPH8', 'RPH7', 'RPH6', 'RPH5', 'RPH4', 'RPH3', 'RPH2', 'RPH1', 'RAH14', 'RAH13', 'RAH12', 'RAH11', 'RAH10', 'RAH9', 'RAH8', 'RAH7', 'RAH6', 'RAH5', 'RAH4', 'RAH3', 'RAH2', 'RAH1', 'RAMY14', 'RAMY13', 'RAMY12', 'RAMY11', 'RAMY10', 'RAMY9', 'RAMY8', 'RAMY7', 'RAMY6', 'RAMY5', 'RAMY4', 'RAMY3', 'RAMY2', 'RAMY1', 'LPH14', 'LPH13', 'LPH12', 'LPH11', 'LPH10', 'LPH9', 'LPH8', 'LPH7', 'LPH6', 'LPH5', 'LPH4', 'LPH3', 'LPH2', 'LPH1', 'LAH14', 'LAH13', 'LAH12', 'LAH11', 'LAH10', 'LAH9', 'LAH8', 'LAH7', 'LAH6', 'LAH5', 'LAH4', 'LAH3', 'LAH2', 'LAH1', 'LAMY14', 'LAMY13', 'LAMY12', 'LAMY11', 'LAMY10', 'LAMY9', 'LAMY8', 'LAMY7', 'LAMY6', 'LAMY5', 'LAMY4', 'LAMY3', 'LAMY2', 'LAMY1'])"
            ]
          },
          "metadata": {},
          "execution_count": 8
        }
      ]
    },
    {
      "cell_type": "code",
      "source": [
        "#!rm -rf  don't run this command unless /content/drive/MyDrive/'Movie Data'/EEG_chapters\n",
        "!mkdir /content/drive/MyDrive/'Movie Data'/EEG_chapters"
      ],
      "metadata": {
        "id": "atI8rtrFeo4V"
      },
      "execution_count": 65,
      "outputs": []
    },
    {
      "cell_type": "code",
      "source": [
        "# Load in neural data\n",
        "# NOTE: Takes a while!\n",
        "#chapter_idx\n",
        "eeg_chapter_path = '/content/drive/MyDrive/Movie Data/EEG_chapters/'\n",
        "\n",
        "for f in neural_data_dir:\n",
        "  if (not '.pbz' in f.lower()) or ('event' in f.lower()):\n",
        "        continue\n",
        "  channel_name = f[f.rfind('_')+1:-5]\n",
        "  channel_data = decompress_pickle(os.path.join(neural_data_folder, f))['signal']\n",
        "  gc.collect()\n",
        "  for chapter in chapter_idx:\n",
        "    with open(eeg_chapter_path + 'chapter_' + str(chapter).zfill(2) + '_' + channel_name + '.json', 'w') as fp:\n",
        "      json.dump({channel_name: channel_data[chapter_idx[chapter][0]:chapter_idx[chapter][1]].tolist()}, fp, indent=2)\n",
        "  del channel_data\n",
        "  gc.collect()\n",
        "  print(\"Processed channel\", channel_name, \"and all chapters.\")\n",
        "  print(\"---------------------------------------------------------------------\")\n",
        ""
      ],
      "metadata": {
        "colab": {
          "base_uri": "https://localhost:8080/"
        },
        "id": "x7yAoP5KcofU",
        "outputId": "ca43cac8-9721-4c59-f327-6ff7926d1f43"
      },
      "execution_count": 9,
      "outputs": [
        {
          "metadata": {
            "tags": null
          },
          "name": "stdout",
          "output_type": "stream",
          "text": [
            "Processed channel RPH14 and all chapters.\n",
            "---------------------------------------------------------------------\n",
            "Processed channel RPH13 and all chapters.\n",
            "---------------------------------------------------------------------\n",
            "Processed channel RPH12 and all chapters.\n",
            "---------------------------------------------------------------------\n",
            "Processed channel RPH11 and all chapters.\n",
            "---------------------------------------------------------------------\n",
            "Processed channel RPH10 and all chapters.\n",
            "---------------------------------------------------------------------\n",
            "Processed channel RPH9 and all chapters.\n",
            "---------------------------------------------------------------------\n",
            "Processed channel RPH8 and all chapters.\n",
            "---------------------------------------------------------------------\n",
            "Processed channel RPH7 and all chapters.\n",
            "---------------------------------------------------------------------\n",
            "Processed channel RPH6 and all chapters.\n",
            "---------------------------------------------------------------------\n",
            "Processed channel RPH5 and all chapters.\n",
            "---------------------------------------------------------------------\n",
            "Processed channel RPH4 and all chapters.\n",
            "---------------------------------------------------------------------\n",
            "Processed channel RPH3 and all chapters.\n",
            "---------------------------------------------------------------------\n",
            "Processed channel RPH2 and all chapters.\n",
            "---------------------------------------------------------------------\n",
            "Processed channel RPH1 and all chapters.\n",
            "---------------------------------------------------------------------\n",
            "Processed channel RAH14 and all chapters.\n",
            "---------------------------------------------------------------------\n",
            "Processed channel RAH13 and all chapters.\n",
            "---------------------------------------------------------------------\n",
            "Processed channel RAH12 and all chapters.\n",
            "---------------------------------------------------------------------\n",
            "Processed channel RAH11 and all chapters.\n",
            "---------------------------------------------------------------------\n",
            "Processed channel RAH10 and all chapters.\n",
            "---------------------------------------------------------------------\n",
            "Processed channel RAH9 and all chapters.\n",
            "---------------------------------------------------------------------\n",
            "Processed channel RAH8 and all chapters.\n",
            "---------------------------------------------------------------------\n",
            "Processed channel RAH7 and all chapters.\n",
            "---------------------------------------------------------------------\n",
            "Processed channel RAH6 and all chapters.\n",
            "---------------------------------------------------------------------\n",
            "Processed channel RAH5 and all chapters.\n",
            "---------------------------------------------------------------------\n",
            "Processed channel RAH4 and all chapters.\n",
            "---------------------------------------------------------------------\n",
            "Processed channel RAH3 and all chapters.\n",
            "---------------------------------------------------------------------\n",
            "Processed channel RAH2 and all chapters.\n",
            "---------------------------------------------------------------------\n",
            "Processed channel RAH1 and all chapters.\n",
            "---------------------------------------------------------------------\n",
            "Processed channel RAMY14 and all chapters.\n",
            "---------------------------------------------------------------------\n",
            "Processed channel RAMY13 and all chapters.\n",
            "---------------------------------------------------------------------\n",
            "Processed channel RAMY12 and all chapters.\n",
            "---------------------------------------------------------------------\n",
            "Processed channel RAMY11 and all chapters.\n",
            "---------------------------------------------------------------------\n",
            "Processed channel RAMY10 and all chapters.\n",
            "---------------------------------------------------------------------\n",
            "Processed channel RAMY9 and all chapters.\n",
            "---------------------------------------------------------------------\n",
            "Processed channel RAMY8 and all chapters.\n",
            "---------------------------------------------------------------------\n",
            "Processed channel RAMY7 and all chapters.\n",
            "---------------------------------------------------------------------\n",
            "Processed channel RAMY6 and all chapters.\n",
            "---------------------------------------------------------------------\n",
            "Processed channel RAMY5 and all chapters.\n",
            "---------------------------------------------------------------------\n",
            "Processed channel RAMY4 and all chapters.\n",
            "---------------------------------------------------------------------\n",
            "Processed channel RAMY3 and all chapters.\n",
            "---------------------------------------------------------------------\n",
            "Processed channel RAMY2 and all chapters.\n",
            "---------------------------------------------------------------------\n",
            "Processed channel RAMY1 and all chapters.\n",
            "---------------------------------------------------------------------\n",
            "Processed channel LPH14 and all chapters.\n",
            "---------------------------------------------------------------------\n",
            "Processed channel LPH13 and all chapters.\n",
            "---------------------------------------------------------------------\n",
            "Processed channel LPH12 and all chapters.\n",
            "---------------------------------------------------------------------\n",
            "Processed channel LPH11 and all chapters.\n",
            "---------------------------------------------------------------------\n",
            "Processed channel LPH10 and all chapters.\n",
            "---------------------------------------------------------------------\n",
            "Processed channel LPH9 and all chapters.\n",
            "---------------------------------------------------------------------\n",
            "Processed channel LPH8 and all chapters.\n",
            "---------------------------------------------------------------------\n",
            "Processed channel LPH7 and all chapters.\n",
            "---------------------------------------------------------------------\n",
            "Processed channel LPH6 and all chapters.\n",
            "---------------------------------------------------------------------\n",
            "Processed channel LPH5 and all chapters.\n",
            "---------------------------------------------------------------------\n",
            "Processed channel LPH4 and all chapters.\n",
            "---------------------------------------------------------------------\n",
            "Processed channel LPH3 and all chapters.\n",
            "---------------------------------------------------------------------\n",
            "Processed channel LPH2 and all chapters.\n",
            "---------------------------------------------------------------------\n",
            "Processed channel LPH1 and all chapters.\n",
            "---------------------------------------------------------------------\n",
            "Processed channel LAH14 and all chapters.\n",
            "---------------------------------------------------------------------\n",
            "Processed channel LAH13 and all chapters.\n",
            "---------------------------------------------------------------------\n",
            "Processed channel LAH12 and all chapters.\n",
            "---------------------------------------------------------------------\n",
            "Processed channel LAH11 and all chapters.\n",
            "---------------------------------------------------------------------\n",
            "Processed channel LAH10 and all chapters.\n",
            "---------------------------------------------------------------------\n",
            "Processed channel LAH9 and all chapters.\n",
            "---------------------------------------------------------------------\n",
            "Processed channel LAH8 and all chapters.\n",
            "---------------------------------------------------------------------\n",
            "Processed channel LAH7 and all chapters.\n",
            "---------------------------------------------------------------------\n",
            "Processed channel LAH6 and all chapters.\n",
            "---------------------------------------------------------------------\n",
            "Processed channel LAH5 and all chapters.\n",
            "---------------------------------------------------------------------\n",
            "Processed channel LAH4 and all chapters.\n",
            "---------------------------------------------------------------------\n",
            "Processed channel LAH3 and all chapters.\n",
            "---------------------------------------------------------------------\n",
            "Processed channel LAH2 and all chapters.\n",
            "---------------------------------------------------------------------\n",
            "Processed channel LAH1 and all chapters.\n",
            "---------------------------------------------------------------------\n",
            "Processed channel LAMY14 and all chapters.\n",
            "---------------------------------------------------------------------\n",
            "Processed channel LAMY13 and all chapters.\n",
            "---------------------------------------------------------------------\n",
            "Processed channel LAMY12 and all chapters.\n",
            "---------------------------------------------------------------------\n",
            "Processed channel LAMY11 and all chapters.\n",
            "---------------------------------------------------------------------\n",
            "Processed channel LAMY10 and all chapters.\n",
            "---------------------------------------------------------------------\n",
            "Processed channel LAMY9 and all chapters.\n",
            "---------------------------------------------------------------------\n",
            "Processed channel LAMY8 and all chapters.\n",
            "---------------------------------------------------------------------\n",
            "Processed channel LAMY7 and all chapters.\n",
            "---------------------------------------------------------------------\n",
            "Processed channel LAMY6 and all chapters.\n",
            "---------------------------------------------------------------------\n",
            "Processed channel LAMY5 and all chapters.\n",
            "---------------------------------------------------------------------\n",
            "Processed channel LAMY4 and all chapters.\n",
            "---------------------------------------------------------------------\n",
            "Processed channel LAMY3 and all chapters.\n",
            "---------------------------------------------------------------------\n",
            "Processed channel LAMY2 and all chapters.\n",
            "---------------------------------------------------------------------\n",
            "Processed channel LAMY1 and all chapters.\n",
            "---------------------------------------------------------------------\n"
          ]
        }
      ]
    },
    {
      "cell_type": "code",
      "source": [
        "total_channels = len(list(channels_dict.keys()))\n",
        "chapters = dict(zip(list(chapter_idx.keys()), [[] for i in range(20)]))"
      ],
      "metadata": {
        "id": "k3rLH2ytD-xT"
      },
      "execution_count": 13,
      "outputs": []
    },
    {
      "cell_type": "code",
      "source": [
        "eeg_chapter_path = '/content/drive/MyDrive/Movie Data/EEG_chapters/'\n",
        "for file_ in os.listdir(eeg_chapter_path):\n",
        "  chapters[int(file_.split('_')[1])].append(file_)"
      ],
      "metadata": {
        "id": "TSVFjBuxjVpJ"
      },
      "execution_count": 16,
      "outputs": []
    },
    {
      "cell_type": "code",
      "source": [
        "!du -hs /content/drive/MyDrive/'Movie Data'/EEG_chapters/"
      ],
      "metadata": {
        "id": "mmWH_EdCESoa",
        "outputId": "3f5573b8-cefb-471f-82d8-9635fd8755a6",
        "colab": {
          "base_uri": "https://localhost:8080/"
        }
      },
      "execution_count": 28,
      "outputs": [
        {
          "output_type": "stream",
          "name": "stdout",
          "text": [
            "15G\t/content/drive/MyDrive/Movie Data/EEG_chapters/\n"
          ]
        }
      ]
    },
    {
      "cell_type": "code",
      "source": [
        "for chapter in chapters:\n",
        ""
      ],
      "metadata": {
        "id": "XagLVvynDOdf"
      },
      "execution_count": null,
      "outputs": []
    },
    {
      "cell_type": "code",
      "source": [],
      "metadata": {
        "id": "MvX_UNx4FFEI"
      },
      "execution_count": null,
      "outputs": []
    }
  ]
}