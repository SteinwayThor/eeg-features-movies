{
  "nbformat": 4,
  "nbformat_minor": 0,
  "metadata": {
    "colab": {
      "provenance": [],
      "include_colab_link": true
    },
    "kernelspec": {
      "name": "python3",
      "display_name": "Python 3"
    },
    "language_info": {
      "name": "python"
    }
  },
  "cells": [
    {
      "cell_type": "markdown",
      "metadata": {
        "id": "view-in-github",
        "colab_type": "text"
      },
      "source": [
        "<a href=\"https://colab.research.google.com/github/SteinwayThor/eeg-features-movies/blob/main/neural_data_preprocessing.ipynb\" target=\"_parent\"><img src=\"https://colab.research.google.com/assets/colab-badge.svg\" alt=\"Open In Colab\"/></a>"
      ]
    },
    {
      "cell_type": "code",
      "source": [
        "# IMPORTS\n",
        "import os\n",
        "from google.colab import drive\n",
        "import bz2\n",
        "import _pickle as cPickle"
      ],
      "metadata": {
        "id": "dsv_qhY0cypE"
      },
      "execution_count": 1,
      "outputs": []
    },
    {
      "cell_type": "code",
      "source": [
        "drive.mount('/content/drive', force_remount=True)\n",
        "\n",
        "# Load any compressed pickle file\n",
        "def decompress_pickle(file):\n",
        "  data = bz2.BZ2File(file, 'rb')\n",
        "  data = cPickle.load(data)\n",
        "  return data"
      ],
      "metadata": {
        "colab": {
          "base_uri": "https://localhost:8080/"
        },
        "id": "RUJJmujzctmx",
        "outputId": "3ac96ff7-2db1-421b-8fed-a9d97172a13e"
      },
      "execution_count": 2,
      "outputs": [
        {
          "output_type": "stream",
          "name": "stdout",
          "text": [
            "Mounted at /content/drive\n"
          ]
        }
      ]
    },
    {
      "cell_type": "code",
      "source": [
        "neural_data_folder = '/content/drive/MyDrive/Movie Data/e0006KR/'\n",
        "neural_data_dir = os.listdir(neural_data_folder)"
      ],
      "metadata": {
        "id": "FjIogycqxzpw"
      },
      "execution_count": 15,
      "outputs": []
    },
    {
      "cell_type": "code",
      "source": [
        "#Extract start and end of chapters:\n",
        "events_f = [f for f in neural_data_dir if 'events' in f.lower()][0]\n",
        "events = decompress_pickle(os.path.join(neural_data_folder, events_f))\n",
        "chapter_idx = [event for event in events['signal'] if event[0]==9 or event[0]==18]\n",
        "start_stop = [(chapter_idx[i][1],chapter_idx[i+1][1]) for i in range(0,len(chapter_idx), 2)]\n",
        "chapter_idx = dict(zip((range(1,len(start_stop)+1)),start_stop))"
      ],
      "metadata": {
        "id": "rDCSvkXAxwk0"
      },
      "execution_count": 37,
      "outputs": []
    },
    {
      "cell_type": "code",
      "source": [
        "chapter_idx"
      ],
      "metadata": {
        "id": "Vb7ZlaPu0EVq",
        "outputId": "941ec2ed-89ed-495f-c5f0-82fd5377926a",
        "colab": {
          "base_uri": "https://localhost:8080/"
        }
      },
      "execution_count": 38,
      "outputs": [
        {
          "output_type": "execute_result",
          "data": {
            "text/plain": [
              "{1: (23828108, 24179424),\n",
              " 2: (24181586, 24557675),\n",
              " 3: (24558933, 24956256),\n",
              " 4: (24957529, 25294656),\n",
              " 5: (25295943, 25593803),\n",
              " 6: (25595013, 25965313),\n",
              " 7: (25966462, 26370719),\n",
              " 8: (26371896, 26711407),\n",
              " 9: (26712625, 27178388),\n",
              " 10: (27179752, 27695292),\n",
              " 11: (27696813, 28188900),\n",
              " 12: (28190842, 28532606),\n",
              " 13: (28533966, 29040089),\n",
              " 14: (29041771, 29418395),\n",
              " 15: (29419847, 29804615),\n",
              " 16: (29806140, 30300732),\n",
              " 17: (30302312, 30687636),\n",
              " 18: (30689435, 30901312),\n",
              " 19: (30902789, 31380891),\n",
              " 20: (31382496, 31449857)}"
            ]
          },
          "metadata": {},
          "execution_count": 38
        }
      ]
    },
    {
      "cell_type": "code",
      "source": [
        "# Load in neural data\n",
        "# NOTE: Takes a while!\n",
        "neural_data = {}\n",
        "channels = []\n",
        "for f in neural_data_dir:\n",
        "  channel_name = f[f.rfind('_')+1:-5]\n",
        "  channels.append(channel_name)\n",
        "  channel_data = decompress_pickle(os.path.join(neural_data_folder, f))\n",
        "  neural_data[channel_name] = channel_data\n",
        "  print(f'Loaded in channel {channel_name}')\n",
        "print(channels)"
      ],
      "metadata": {
        "colab": {
          "base_uri": "https://localhost:8080/"
        },
        "id": "x7yAoP5KcofU",
        "outputId": "3e6fe2ed-6414-4936-8c15-bffcf5daee87"
      },
      "execution_count": 14,
      "outputs": [
        {
          "output_type": "stream",
          "name": "stdout",
          "text": [
            "2019-06-04_e0006KR_Events.pbz2\n"
          ]
        }
      ]
    },
    {
      "cell_type": "code",
      "source": [
        "neural_data.keys()"
      ],
      "metadata": {
        "id": "MwMV5lrPgGlT",
        "outputId": "c23d2383-6056-4489-f3fa-ac79f49c593c",
        "colab": {
          "base_uri": "https://localhost:8080/"
        }
      },
      "execution_count": 8,
      "outputs": [
        {
          "output_type": "execute_result",
          "data": {
            "text/plain": [
              "dict_keys(['Events'])"
            ]
          },
          "metadata": {},
          "execution_count": 8
        }
      ]
    },
    {
      "cell_type": "code",
      "source": [
        "neural_data['Events']"
      ],
      "metadata": {
        "id": "M938i7DanBjw",
        "outputId": "6a2d7d8e-ec1d-44f6-eb2a-f3ac1376e210",
        "colab": {
          "base_uri": "https://localhost:8080/"
        }
      },
      "execution_count": 9,
      "outputs": [
        {
          "output_type": "execute_result",
          "data": {
            "text/plain": [
              "{'path': '/Users/AsaadLab/Desktop/Lab/data/movieenc/Epilepsy/Monitoring/2023-04-02_e0018RI_00/2023-04-03_e0018RI_A_Events.pbz2',\n",
              " 'signal': [(127, 0)],\n",
              " 'label': 'Events',\n",
              " 'fs': 1024.0}"
            ]
          },
          "metadata": {},
          "execution_count": 9
        }
      ]
    }
  ]
}