{
  "nbformat": 4,
  "nbformat_minor": 0,
  "metadata": {
    "colab": {
      "provenance": [],
      "authorship_tag": "ABX9TyMraT0sJsFiCKEmbznA0Ag7",
      "include_colab_link": true
    },
    "kernelspec": {
      "name": "python3",
      "display_name": "Python 3"
    },
    "language_info": {
      "name": "python"
    }
  },
  "cells": [
    {
      "cell_type": "markdown",
      "metadata": {
        "id": "view-in-github",
        "colab_type": "text"
      },
      "source": [
        "<a href=\"https://colab.research.google.com/github/SteinwayThor/eeg-features-movies/blob/main/Face_NoFace_Attempt.ipynb\" target=\"_parent\"><img src=\"https://colab.research.google.com/assets/colab-badge.svg\" alt=\"Open In Colab\"/></a>"
      ]
    },
    {
      "cell_type": "markdown",
      "source": [
        "# Code that should have gone frame by frame of the movie and detected whether or not a face is present in the frame."
      ],
      "metadata": {
        "id": "YxOkwyfn8jtZ"
      }
    },
    {
      "cell_type": "code",
      "execution_count": null,
      "metadata": {
        "id": "mJ7Uwf3H8ZHg"
      },
      "outputs": [],
      "source": [
        "import os\n",
        "import csv\n",
        "import cv2\n",
        "import zipfile\n",
        "from google.colab.patches import cv2_imshow\n",
        "\n",
        "# Unzip movie from drive and store in folder\n",
        "drive.mount('/content/drive', force_remount=True)\n",
        "\n",
        "zip_file_path = '/content/drive/MyDrive/Movie Data/e0006KR/green_book.zip'\n",
        "extract_folder = '/content/drive/MyDrive/CLPS_Project/'\n",
        "\n",
        "with zipfile.ZipFile(zip_file_path, 'r') as zip_ref:\n",
        "    zip_ref.extractall(extract_folder)"
      ]
    },
    {
      "cell_type": "code",
      "source": [
        "# Store video labels in a dictionary\n",
        "count = 1\n",
        "video_labels = {}\n",
        "\n",
        "folder = '/content/drive/MyDrive/CLPS_Project/green_book'\n",
        "# Process all video files in the extracted folder\n",
        "for file_name in os.listdir(folder):\n",
        "    if file_name.endswith('avi'):\n",
        "        video_path = os.path.join(folder, file_name)\n",
        "        cap = cv2.VideoCapture(video_path)\n",
        "        # process the frames in the video file\n",
        "        while (cap.isOpened()):\n",
        "\n",
        "          # Capture frame-by-frame\n",
        "          ret, frame = cap.read()\n",
        "          # frame = cv2.resize(frame, (540, 380), fx = 0, fy = 0,\n",
        "          #                      interpolation = cv2.INTER_CUBIC)\n",
        "\n",
        "          # Display the resulting frame\n",
        "          # cv2_imshow(frame)\n",
        "\n",
        "          # Perform face detection using your OpenCV Haarcascades\n",
        "          face_cascade = cv2.CascadeClassifier(cv2.data.haarcascades + 'haarcascade_frontalface_default.xml')\n",
        "          faces = face_cascade.detectMultiScale(frame, scaleFactor=1.1, minNeighbors=5)\n",
        "\n",
        "          # If faces are detected add frame with \"face\" as value\n",
        "          if len(faces) > 0:\n",
        "              label = \"face\"\n",
        "          else:\n",
        "              label = \"no_face\"\n",
        "\n",
        "          video_labels[count] = label\n",
        "          count += 1\n",
        "          # define q as the exit button\n",
        "          if cv2.waitKey(25) & 0xFF == ord('q'):\n",
        "              break\n",
        "\n",
        "        # release the video capture object\n",
        "        cap.release()\n"
      ],
      "metadata": {
        "id": "iEYRTLj99XG6"
      },
      "execution_count": null,
      "outputs": []
    },
    {
      "cell_type": "code",
      "source": [
        "# save dictionary as csv file\n",
        "field_name= ['Frame']\n",
        "with open('Labels.csv', 'w', newline='') as csvfile:\n",
        "    writer = csv.writer(csvfile)\n",
        "    writer.writerows(video_labels.items())"
      ],
      "metadata": {
        "id": "5qebm9Ss9eFC"
      },
      "execution_count": null,
      "outputs": []
    },
    {
      "cell_type": "code",
      "source": [
        "# get the number of frames for the movie by chapter and store in dictionary\n",
        "chapter_frames = []\n",
        "start = 0\n",
        "end = 0\n",
        "\n",
        "folder = '/content/drive/MyDrive/CLPS_Project/green_book'\n",
        "# Process all video files in the extracted folder\n",
        "for file_name in os.listdir(folder):\n",
        "  i = 1\n",
        "  if file_name.endswith('avi'):\n",
        "    count = 1\n",
        "    start += count\n",
        "    video_path = os.path.join(folder, file_name)\n",
        "    cap = cv2.VideoCapture(video_path)\n",
        "    # process the frames in the video file\n",
        "    while (cap.isOpened()):\n",
        "\n",
        "      # Capture frame-by-frame\n",
        "      ret, frame = cap.read()\n",
        "\n",
        "      count += 1\n",
        "      # define q as the exit button\n",
        "      if cv2.waitKey(25) & 0xFF == ord('q'):\n",
        "          break\n",
        "\n",
        "    # release the video capture object\n",
        "    cap.release()\n",
        "    end += count\n",
        "    print(count)\n",
        "    print(start)\n",
        "    print(end)\n",
        "  chapter = {'Ch': i, 'Total Frames': count, 'Start': start, 'Last': end}\n",
        "  chapter_frames.append(chapter)\n",
        "  i += 1\n"
      ],
      "metadata": {
        "id": "IJ7j-Nxf9xbE"
      },
      "execution_count": null,
      "outputs": []
    },
    {
      "cell_type": "code",
      "source": [
        "# save frame data as csv\n",
        "field_names = ['Ch', 'Total Frames', 'First', 'Last']\n",
        "with open('Names.csv', 'w') as csvfile:\n",
        "    writer = csv.DictWriter(csvfile, fieldnames = field_names)\n",
        "    writer.writeheader()\n",
        "    writer.writerows(chapter_frames)"
      ],
      "metadata": {
        "id": "RD1uLK_X9-9q"
      },
      "execution_count": null,
      "outputs": []
    }
  ]
}